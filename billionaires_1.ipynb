{
 "cells": [
  {
   "cell_type": "code",
   "execution_count": 48,
   "metadata": {
    "collapsed": true
   },
   "outputs": [],
   "source": [
    "%matplotlib inline\n",
    "import pandas as pd\n",
    "import seaborn as sns\n",
    "import numpy as np\n",
    "from sklearn.linear_model import LogisticRegression"
   ]
  },
  {
   "cell_type": "code",
   "execution_count": 49,
   "metadata": {},
   "outputs": [],
   "source": [
    "lm = LogisticRegression()\n",
    "df = pd.read_csv('billionaires.csv')"
   ]
  },
  {
   "cell_type": "code",
   "execution_count": 50,
   "metadata": {},
   "outputs": [
    {
     "data": {
      "text/html": [
       "<div>\n",
       "<style>\n",
       "    .dataframe thead tr:only-child th {\n",
       "        text-align: right;\n",
       "    }\n",
       "\n",
       "    .dataframe thead th {\n",
       "        text-align: left;\n",
       "    }\n",
       "\n",
       "    .dataframe tbody tr th {\n",
       "        vertical-align: top;\n",
       "    }\n",
       "</style>\n",
       "<table border=\"1\" class=\"dataframe\">\n",
       "  <thead>\n",
       "    <tr style=\"text-align: right;\">\n",
       "      <th></th>\n",
       "      <th>age</th>\n",
       "      <th>category</th>\n",
       "      <th>citizenship</th>\n",
       "      <th>company.name</th>\n",
       "      <th>company.type</th>\n",
       "      <th>country code</th>\n",
       "      <th>founded</th>\n",
       "      <th>from emerging</th>\n",
       "      <th>gdp</th>\n",
       "      <th>gender</th>\n",
       "      <th>...</th>\n",
       "      <th>name</th>\n",
       "      <th>rank</th>\n",
       "      <th>region</th>\n",
       "      <th>relationship</th>\n",
       "      <th>sector</th>\n",
       "      <th>was founder</th>\n",
       "      <th>was political</th>\n",
       "      <th>wealth.type</th>\n",
       "      <th>worth in billions</th>\n",
       "      <th>year</th>\n",
       "    </tr>\n",
       "  </thead>\n",
       "  <tbody>\n",
       "    <tr>\n",
       "      <th>0</th>\n",
       "      <td>-1</td>\n",
       "      <td>Financial</td>\n",
       "      <td>Saudi Arabia</td>\n",
       "      <td>Rolaco Trading and Contracting Company</td>\n",
       "      <td>new</td>\n",
       "      <td>SAU</td>\n",
       "      <td>1968</td>\n",
       "      <td>True</td>\n",
       "      <td>1.580000e+11</td>\n",
       "      <td>male</td>\n",
       "      <td>...</td>\n",
       "      <td>Abdul Aziz Al-Sulaiman</td>\n",
       "      <td>404</td>\n",
       "      <td>Middle East/North Africa</td>\n",
       "      <td>founder</td>\n",
       "      <td>construction</td>\n",
       "      <td>True</td>\n",
       "      <td>False</td>\n",
       "      <td>self-made finance</td>\n",
       "      <td>1.0</td>\n",
       "      <td>1996</td>\n",
       "    </tr>\n",
       "    <tr>\n",
       "      <th>1</th>\n",
       "      <td>34</td>\n",
       "      <td>Financial</td>\n",
       "      <td>United States</td>\n",
       "      <td>Fidelity Investments</td>\n",
       "      <td>new</td>\n",
       "      <td>USA</td>\n",
       "      <td>1946</td>\n",
       "      <td>True</td>\n",
       "      <td>8.100000e+12</td>\n",
       "      <td>female</td>\n",
       "      <td>...</td>\n",
       "      <td>Abigail Johnson</td>\n",
       "      <td>145</td>\n",
       "      <td>North America</td>\n",
       "      <td>relation</td>\n",
       "      <td>investment banking</td>\n",
       "      <td>True</td>\n",
       "      <td>False</td>\n",
       "      <td>inherited</td>\n",
       "      <td>2.5</td>\n",
       "      <td>1996</td>\n",
       "    </tr>\n",
       "    <tr>\n",
       "      <th>2</th>\n",
       "      <td>59</td>\n",
       "      <td>Non-Traded Sectors</td>\n",
       "      <td>Brazil</td>\n",
       "      <td>Companhia Brasileira de Distribui?ao</td>\n",
       "      <td>new</td>\n",
       "      <td>BRA</td>\n",
       "      <td>1948</td>\n",
       "      <td>True</td>\n",
       "      <td>8.540000e+11</td>\n",
       "      <td>male</td>\n",
       "      <td>...</td>\n",
       "      <td>Abilio dos Santos Diniz</td>\n",
       "      <td>322</td>\n",
       "      <td>Latin America</td>\n",
       "      <td>relation</td>\n",
       "      <td>retail</td>\n",
       "      <td>True</td>\n",
       "      <td>False</td>\n",
       "      <td>inherited</td>\n",
       "      <td>1.2</td>\n",
       "      <td>1996</td>\n",
       "    </tr>\n",
       "    <tr>\n",
       "      <th>3</th>\n",
       "      <td>61</td>\n",
       "      <td>New Sectors</td>\n",
       "      <td>Germany</td>\n",
       "      <td>Ratiopharm</td>\n",
       "      <td>new</td>\n",
       "      <td>DEU</td>\n",
       "      <td>1881</td>\n",
       "      <td>True</td>\n",
       "      <td>2.500000e+12</td>\n",
       "      <td>male</td>\n",
       "      <td>...</td>\n",
       "      <td>Adolf Merckle</td>\n",
       "      <td>388</td>\n",
       "      <td>Europe</td>\n",
       "      <td>relation</td>\n",
       "      <td>pharmaceuticals</td>\n",
       "      <td>True</td>\n",
       "      <td>False</td>\n",
       "      <td>inherited</td>\n",
       "      <td>1.0</td>\n",
       "      <td>1996</td>\n",
       "    </tr>\n",
       "    <tr>\n",
       "      <th>4</th>\n",
       "      <td>-1</td>\n",
       "      <td>Financial</td>\n",
       "      <td>Hong Kong</td>\n",
       "      <td>Swire</td>\n",
       "      <td>new</td>\n",
       "      <td>HKG</td>\n",
       "      <td>1816</td>\n",
       "      <td>True</td>\n",
       "      <td>1.600000e+11</td>\n",
       "      <td>male</td>\n",
       "      <td>...</td>\n",
       "      <td>Adrian and John Swire</td>\n",
       "      <td>162</td>\n",
       "      <td>East Asia</td>\n",
       "      <td>relation</td>\n",
       "      <td>trading company</td>\n",
       "      <td>True</td>\n",
       "      <td>False</td>\n",
       "      <td>inherited</td>\n",
       "      <td>2.2</td>\n",
       "      <td>1996</td>\n",
       "    </tr>\n",
       "  </tbody>\n",
       "</table>\n",
       "<p>5 rows × 22 columns</p>\n",
       "</div>"
      ],
      "text/plain": [
       "   age            category    citizenship  \\\n",
       "0   -1           Financial   Saudi Arabia   \n",
       "1   34           Financial  United States   \n",
       "2   59  Non-Traded Sectors         Brazil   \n",
       "3   61         New Sectors        Germany   \n",
       "4   -1           Financial      Hong Kong   \n",
       "\n",
       "                             company.name company.type country code  founded  \\\n",
       "0  Rolaco Trading and Contracting Company          new          SAU     1968   \n",
       "1                    Fidelity Investments          new          USA     1946   \n",
       "2    Companhia Brasileira de Distribui?ao          new          BRA     1948   \n",
       "3                              Ratiopharm          new          DEU     1881   \n",
       "4                                   Swire          new          HKG     1816   \n",
       "\n",
       "   from emerging           gdp  gender  ...                      name  rank  \\\n",
       "0           True  1.580000e+11    male  ...    Abdul Aziz Al-Sulaiman   404   \n",
       "1           True  8.100000e+12  female  ...           Abigail Johnson   145   \n",
       "2           True  8.540000e+11    male  ...   Abilio dos Santos Diniz   322   \n",
       "3           True  2.500000e+12    male  ...             Adolf Merckle   388   \n",
       "4           True  1.600000e+11    male  ...     Adrian and John Swire   162   \n",
       "\n",
       "                     region  relationship              sector was founder  \\\n",
       "0  Middle East/North Africa       founder        construction        True   \n",
       "1             North America      relation  investment banking        True   \n",
       "2             Latin America      relation              retail        True   \n",
       "3                    Europe      relation     pharmaceuticals        True   \n",
       "4                 East Asia      relation     trading company        True   \n",
       "\n",
       "  was political        wealth.type  worth in billions  year  \n",
       "0         False  self-made finance                1.0  1996  \n",
       "1         False          inherited                2.5  1996  \n",
       "2         False          inherited                1.2  1996  \n",
       "3         False          inherited                1.0  1996  \n",
       "4         False          inherited                2.2  1996  \n",
       "\n",
       "[5 rows x 22 columns]"
      ]
     },
     "execution_count": 50,
     "metadata": {},
     "output_type": "execute_result"
    }
   ],
   "source": [
    "df.head()"
   ]
  },
  {
   "cell_type": "code",
   "execution_count": 32,
   "metadata": {},
   "outputs": [
    {
     "name": "stdout",
     "output_type": "stream",
     "text": [
      "[False  True]\n",
      "['self-made finance' 'inherited' 'founder non-finance' 'executive'\n",
      " 'privatized and resources' nan]\n"
     ]
    }
   ],
   "source": [
    "print df['was political'].unique()\n",
    "print df['wealth.type'].unique()\n"
   ]
  },
  {
   "cell_type": "code",
   "execution_count": 5,
   "metadata": {},
   "outputs": [
    {
     "data": {
      "text/html": [
       "<div>\n",
       "<style>\n",
       "    .dataframe thead tr:only-child th {\n",
       "        text-align: right;\n",
       "    }\n",
       "\n",
       "    .dataframe thead th {\n",
       "        text-align: left;\n",
       "    }\n",
       "\n",
       "    .dataframe tbody tr th {\n",
       "        vertical-align: top;\n",
       "    }\n",
       "</style>\n",
       "<table border=\"1\" class=\"dataframe\">\n",
       "  <thead>\n",
       "    <tr style=\"text-align: right;\">\n",
       "      <th></th>\n",
       "      <th>age</th>\n",
       "      <th>founded</th>\n",
       "      <th>gdp</th>\n",
       "      <th>rank</th>\n",
       "      <th>worth in billions</th>\n",
       "      <th>year</th>\n",
       "    </tr>\n",
       "  </thead>\n",
       "  <tbody>\n",
       "    <tr>\n",
       "      <th>count</th>\n",
       "      <td>2614.000000</td>\n",
       "      <td>2614.000000</td>\n",
       "      <td>2.614000e+03</td>\n",
       "      <td>2614.000000</td>\n",
       "      <td>2614.000000</td>\n",
       "      <td>2614.000000</td>\n",
       "    </tr>\n",
       "    <tr>\n",
       "      <th>mean</th>\n",
       "      <td>53.212701</td>\n",
       "      <td>1924.711936</td>\n",
       "      <td>1.769103e+12</td>\n",
       "      <td>599.672533</td>\n",
       "      <td>3.531943</td>\n",
       "      <td>2008.411630</td>\n",
       "    </tr>\n",
       "    <tr>\n",
       "      <th>std</th>\n",
       "      <td>25.591642</td>\n",
       "      <td>243.776546</td>\n",
       "      <td>3.547083e+12</td>\n",
       "      <td>467.885695</td>\n",
       "      <td>5.088813</td>\n",
       "      <td>7.483598</td>\n",
       "    </tr>\n",
       "    <tr>\n",
       "      <th>min</th>\n",
       "      <td>-1.000000</td>\n",
       "      <td>0.000000</td>\n",
       "      <td>0.000000e+00</td>\n",
       "      <td>1.000000</td>\n",
       "      <td>1.000000</td>\n",
       "      <td>1996.000000</td>\n",
       "    </tr>\n",
       "    <tr>\n",
       "      <th>25%</th>\n",
       "      <td>47.000000</td>\n",
       "      <td>1936.000000</td>\n",
       "      <td>0.000000e+00</td>\n",
       "      <td>215.000000</td>\n",
       "      <td>1.400000</td>\n",
       "      <td>2001.000000</td>\n",
       "    </tr>\n",
       "    <tr>\n",
       "      <th>50%</th>\n",
       "      <td>59.000000</td>\n",
       "      <td>1963.000000</td>\n",
       "      <td>0.000000e+00</td>\n",
       "      <td>430.000000</td>\n",
       "      <td>2.000000</td>\n",
       "      <td>2014.000000</td>\n",
       "    </tr>\n",
       "    <tr>\n",
       "      <th>75%</th>\n",
       "      <td>70.000000</td>\n",
       "      <td>1985.000000</td>\n",
       "      <td>7.250000e+11</td>\n",
       "      <td>988.000000</td>\n",
       "      <td>3.500000</td>\n",
       "      <td>2014.000000</td>\n",
       "    </tr>\n",
       "    <tr>\n",
       "      <th>max</th>\n",
       "      <td>98.000000</td>\n",
       "      <td>2012.000000</td>\n",
       "      <td>1.060000e+13</td>\n",
       "      <td>1565.000000</td>\n",
       "      <td>76.000000</td>\n",
       "      <td>2014.000000</td>\n",
       "    </tr>\n",
       "  </tbody>\n",
       "</table>\n",
       "</div>"
      ],
      "text/plain": [
       "               age      founded           gdp         rank  worth in billions  \\\n",
       "count  2614.000000  2614.000000  2.614000e+03  2614.000000        2614.000000   \n",
       "mean     53.212701  1924.711936  1.769103e+12   599.672533           3.531943   \n",
       "std      25.591642   243.776546  3.547083e+12   467.885695           5.088813   \n",
       "min      -1.000000     0.000000  0.000000e+00     1.000000           1.000000   \n",
       "25%      47.000000  1936.000000  0.000000e+00   215.000000           1.400000   \n",
       "50%      59.000000  1963.000000  0.000000e+00   430.000000           2.000000   \n",
       "75%      70.000000  1985.000000  7.250000e+11   988.000000           3.500000   \n",
       "max      98.000000  2012.000000  1.060000e+13  1565.000000          76.000000   \n",
       "\n",
       "              year  \n",
       "count  2614.000000  \n",
       "mean   2008.411630  \n",
       "std       7.483598  \n",
       "min    1996.000000  \n",
       "25%    2001.000000  \n",
       "50%    2014.000000  \n",
       "75%    2014.000000  \n",
       "max    2014.000000  "
      ]
     },
     "execution_count": 5,
     "metadata": {},
     "output_type": "execute_result"
    }
   ],
   "source": [
    "df.describe()"
   ]
  },
  {
   "cell_type": "code",
   "execution_count": 6,
   "metadata": {},
   "outputs": [
    {
     "name": "stdout",
     "output_type": "stream",
     "text": [
      "<class 'pandas.core.frame.DataFrame'>\n",
      "Int64Index: 78 entries, 5 to 2610\n",
      "Data columns (total 22 columns):\n",
      "age                  78 non-null int64\n",
      "category             78 non-null object\n",
      "citizenship          78 non-null object\n",
      "company.name         77 non-null object\n",
      "company.type         76 non-null object\n",
      "country code         78 non-null object\n",
      "founded              78 non-null int64\n",
      "from emerging        78 non-null bool\n",
      "gdp                  78 non-null float64\n",
      "gender               78 non-null object\n",
      "industry             78 non-null object\n",
      "inherited            78 non-null bool\n",
      "name                 78 non-null object\n",
      "rank                 78 non-null int64\n",
      "region               78 non-null object\n",
      "relationship         78 non-null object\n",
      "sector               77 non-null object\n",
      "was founder          78 non-null bool\n",
      "was political        78 non-null bool\n",
      "wealth.type          78 non-null object\n",
      "worth in billions    78 non-null float64\n",
      "year                 78 non-null int64\n",
      "dtypes: bool(4), float64(2), int64(4), object(12)\n",
      "memory usage: 11.9+ KB\n"
     ]
    }
   ],
   "source": [
    "political = df[df['was political']==True]\n",
    "\n",
    "political.info()"
   ]
  },
  {
   "cell_type": "code",
   "execution_count": 7,
   "metadata": {},
   "outputs": [
    {
     "name": "stdout",
     "output_type": "stream",
     "text": [
      "<class 'pandas.core.frame.DataFrame'>\n",
      "Int64Index: 2536 entries, 0 to 2613\n",
      "Data columns (total 22 columns):\n",
      "age                  2536 non-null int64\n",
      "category             2535 non-null object\n",
      "citizenship          2536 non-null object\n",
      "company.name         2499 non-null object\n",
      "company.type         2502 non-null object\n",
      "country code         2536 non-null object\n",
      "founded              2536 non-null int64\n",
      "from emerging        2536 non-null bool\n",
      "gdp                  2536 non-null float64\n",
      "gender               2502 non-null object\n",
      "industry             2535 non-null object\n",
      "inherited            2536 non-null bool\n",
      "name                 2536 non-null object\n",
      "rank                 2536 non-null int64\n",
      "region               2536 non-null object\n",
      "relationship         2490 non-null object\n",
      "sector               2514 non-null object\n",
      "was founder          2536 non-null bool\n",
      "was political        2536 non-null bool\n",
      "wealth.type          2514 non-null object\n",
      "worth in billions    2536 non-null float64\n",
      "year                 2536 non-null int64\n",
      "dtypes: bool(4), float64(2), int64(4), object(12)\n",
      "memory usage: 386.3+ KB\n"
     ]
    }
   ],
   "source": [
    "not_political = df[df['was political'] == False]\n",
    "\n",
    "not_political.info()\n"
   ]
  },
  {
   "cell_type": "code",
   "execution_count": null,
   "metadata": {
    "collapsed": true
   },
   "outputs": [],
   "source": []
  },
  {
   "cell_type": "code",
   "execution_count": 8,
   "metadata": {},
   "outputs": [
    {
     "name": "stdout",
     "output_type": "stream",
     "text": [
      "3.12051282051\n",
      "4.99743589744\n"
     ]
    },
    {
     "data": {
      "image/png": "[encoded data removed]",
      "text/plain": [
       "<matplotlib.figure.Figure at 0x7f173e6c7210>"
      ]
     },
     "metadata": {},
     "output_type": "display_data"
    }
   ],
   "source": [
    "political_sample = political['worth in billions']\n",
    "\n",
    "bootstrap_political_samples = [np.mean(np.random.choice(political_sample, size=78, replace=True)) for i in range(9999)]\n",
    "\n",
    "sns.distplot(bootstrap_political_samples)\n",
    "print np.percentile(bootstrap_political_samples, 2.5)\n",
    "print np.percentile(bootstrap_political_samples, 97.5)"
   ]
  },
  {
   "cell_type": "code",
   "execution_count": 9,
   "metadata": {},
   "outputs": [
    {
     "name": "stdout",
     "output_type": "stream",
     "text": [
      "2.60256410256\n",
      "4.83602564103\n"
     ]
    },
    {
     "data": {
      "image/png": "[encoded data removed]",
      "text/plain": [
       "<matplotlib.figure.Figure at 0x7f173e3a2490>"
      ]
     },
     "metadata": {},
     "output_type": "display_data"
    }
   ],
   "source": [
    "not_political_sample = not_political['worth in billions']\n",
    "\n",
    "bootstrap_not_political_samples = [np.mean(np.random.choice(not_political_sample, size=78, replace=True)) for i in range(9999)]\n",
    "\n",
    "sns.distplot(bootstrap_not_political_samples)\n",
    "print np.percentile(bootstrap_not_political_samples, 2.5)\n",
    "print np.percentile(bootstrap_not_political_samples, 97.5)"
   ]
  },
  {
   "cell_type": "code",
   "execution_count": 10,
   "metadata": {
    "collapsed": true
   },
   "outputs": [],
   "source": [
    "bootstrap_samples_ab = [np.mean(np.random.choice(political_sample, size=53, replace=True)) - np.mean(np.random.choice(not_political_sample, size=53, replace=True)) for i in range(9999)]"
   ]
  },
  {
   "cell_type": "code",
   "execution_count": 11,
   "metadata": {},
   "outputs": [
    {
     "data": {
      "text/plain": [
       "<matplotlib.axes._subplots.AxesSubplot at 0x7f173e228a90>"
      ]
     },
     "execution_count": 11,
     "metadata": {},
     "output_type": "execute_result"
    },
    {
     "data": {
      "image/png": "[encoded data removed]",
      "text/plain": [
       "<matplotlib.figure.Figure at 0x7f173e6a9690>"
      ]
     },
     "metadata": {},
     "output_type": "display_data"
    }
   ],
   "source": [
    "sns.distplot(bootstrap_samples_ab)"
   ]
  },
  {
   "cell_type": "code",
   "execution_count": 12,
   "metadata": {},
   "outputs": [
    {
     "name": "stdout",
     "output_type": "stream",
     "text": [
      "<class 'pandas.core.frame.DataFrame'>\n",
      "RangeIndex: 2614 entries, 0 to 2613\n",
      "Data columns (total 22 columns):\n",
      "age                  2614 non-null int64\n",
      "category             2613 non-null object\n",
      "citizenship          2614 non-null object\n",
      "company.name         2576 non-null object\n",
      "company.type         2578 non-null object\n",
      "country code         2614 non-null object\n",
      "founded              2614 non-null int64\n",
      "from emerging        2614 non-null bool\n",
      "gdp                  2614 non-null float64\n",
      "gender               2580 non-null object\n",
      "industry             2613 non-null object\n",
      "inherited            2614 non-null bool\n",
      "name                 2614 non-null object\n",
      "rank                 2614 non-null int64\n",
      "region               2614 non-null object\n",
      "relationship         2568 non-null object\n",
      "sector               2591 non-null object\n",
      "was founder          2614 non-null bool\n",
      "was political        2614 non-null bool\n",
      "wealth.type          2592 non-null object\n",
      "worth in billions    2614 non-null float64\n",
      "year                 2614 non-null int64\n",
      "dtypes: bool(4), float64(2), int64(4), object(12)\n",
      "memory usage: 377.9+ KB\n"
     ]
    }
   ],
   "source": [
    "df.info()"
   ]
  },
  {
   "cell_type": "code",
   "execution_count": 37,
   "metadata": {},
   "outputs": [
    {
     "name": "stdout",
     "output_type": "stream",
     "text": [
      "<class 'pandas.core.frame.DataFrame'>\n",
      "Int64Index: 2539 entries, 0 to 2613\n",
      "Data columns (total 22 columns):\n",
      "age                  2539 non-null int64\n",
      "category             2539 non-null object\n",
      "citizenship          2539 non-null object\n",
      "company.name         2539 non-null object\n",
      "company.type         2539 non-null object\n",
      "country code         2539 non-null object\n",
      "founded              2539 non-null int64\n",
      "from emerging        2539 non-null bool\n",
      "gdp                  2539 non-null float64\n",
      "gender               2539 non-null object\n",
      "industry             2539 non-null object\n",
      "inherited            2539 non-null bool\n",
      "name                 2539 non-null object\n",
      "rank                 2539 non-null int64\n",
      "region               2539 non-null object\n",
      "relationship         2539 non-null object\n",
      "sector               2539 non-null object\n",
      "was founder          2539 non-null bool\n",
      "was political        2539 non-null bool\n",
      "wealth.type          2539 non-null object\n",
      "worth in billions    2539 non-null float64\n",
      "year                 2539 non-null int64\n",
      "dtypes: bool(4), float64(2), int64(4), object(12)\n",
      "memory usage: 386.8+ KB\n"
     ]
    }
   ],
   "source": [
    "df = df.dropna(how='any')\n",
    "df.info()"
   ]
  },
  {
   "cell_type": "code",
   "execution_count": 69,
   "metadata": {},
   "outputs": [],
   "source": [
    "df = df.join(pd.get_dummies(df['wealth.type'], prefix = 'wealth_type'))"
   ]
  },
  {
   "cell_type": "code",
   "execution_count": 52,
   "metadata": {
    "collapsed": true
   },
   "outputs": [],
   "source": [
    "df['was political'] = df['was political'].astype(int)"
   ]
  },
  {
   "cell_type": "code",
   "execution_count": 70,
   "metadata": {},
   "outputs": [
    {
     "data": {
      "text/html": [
       "<div>\n",
       "<style>\n",
       "    .dataframe thead tr:only-child th {\n",
       "        text-align: right;\n",
       "    }\n",
       "\n",
       "    .dataframe thead th {\n",
       "        text-align: left;\n",
       "    }\n",
       "\n",
       "    .dataframe tbody tr th {\n",
       "        vertical-align: top;\n",
       "    }\n",
       "</style>\n",
       "<table border=\"1\" class=\"dataframe\">\n",
       "  <thead>\n",
       "    <tr style=\"text-align: right;\">\n",
       "      <th></th>\n",
       "      <th>age</th>\n",
       "      <th>category</th>\n",
       "      <th>citizenship</th>\n",
       "      <th>company.name</th>\n",
       "      <th>company.type</th>\n",
       "      <th>country code</th>\n",
       "      <th>founded</th>\n",
       "      <th>from emerging</th>\n",
       "      <th>gdp</th>\n",
       "      <th>gender</th>\n",
       "      <th>...</th>\n",
       "      <th>was founder</th>\n",
       "      <th>was political</th>\n",
       "      <th>wealth.type</th>\n",
       "      <th>worth in billions</th>\n",
       "      <th>year</th>\n",
       "      <th>wealth_type_executive</th>\n",
       "      <th>wealth_type_founder non-finance</th>\n",
       "      <th>wealth_type_inherited</th>\n",
       "      <th>wealth_type_privatized and resources</th>\n",
       "      <th>wealth_type_self-made finance</th>\n",
       "    </tr>\n",
       "  </thead>\n",
       "  <tbody>\n",
       "    <tr>\n",
       "      <th>0</th>\n",
       "      <td>-1</td>\n",
       "      <td>Financial</td>\n",
       "      <td>Saudi Arabia</td>\n",
       "      <td>Rolaco Trading and Contracting Company</td>\n",
       "      <td>new</td>\n",
       "      <td>SAU</td>\n",
       "      <td>1968</td>\n",
       "      <td>True</td>\n",
       "      <td>1.580000e+11</td>\n",
       "      <td>male</td>\n",
       "      <td>...</td>\n",
       "      <td>True</td>\n",
       "      <td>0</td>\n",
       "      <td>self-made finance</td>\n",
       "      <td>1.0</td>\n",
       "      <td>1996</td>\n",
       "      <td>0</td>\n",
       "      <td>0</td>\n",
       "      <td>0</td>\n",
       "      <td>0</td>\n",
       "      <td>1</td>\n",
       "    </tr>\n",
       "    <tr>\n",
       "      <th>1</th>\n",
       "      <td>34</td>\n",
       "      <td>Financial</td>\n",
       "      <td>United States</td>\n",
       "      <td>Fidelity Investments</td>\n",
       "      <td>new</td>\n",
       "      <td>USA</td>\n",
       "      <td>1946</td>\n",
       "      <td>True</td>\n",
       "      <td>8.100000e+12</td>\n",
       "      <td>female</td>\n",
       "      <td>...</td>\n",
       "      <td>True</td>\n",
       "      <td>0</td>\n",
       "      <td>inherited</td>\n",
       "      <td>2.5</td>\n",
       "      <td>1996</td>\n",
       "      <td>0</td>\n",
       "      <td>0</td>\n",
       "      <td>1</td>\n",
       "      <td>0</td>\n",
       "      <td>0</td>\n",
       "    </tr>\n",
       "    <tr>\n",
       "      <th>2</th>\n",
       "      <td>59</td>\n",
       "      <td>Non-Traded Sectors</td>\n",
       "      <td>Brazil</td>\n",
       "      <td>Companhia Brasileira de Distribui?ao</td>\n",
       "      <td>new</td>\n",
       "      <td>BRA</td>\n",
       "      <td>1948</td>\n",
       "      <td>True</td>\n",
       "      <td>8.540000e+11</td>\n",
       "      <td>male</td>\n",
       "      <td>...</td>\n",
       "      <td>True</td>\n",
       "      <td>0</td>\n",
       "      <td>inherited</td>\n",
       "      <td>1.2</td>\n",
       "      <td>1996</td>\n",
       "      <td>0</td>\n",
       "      <td>0</td>\n",
       "      <td>1</td>\n",
       "      <td>0</td>\n",
       "      <td>0</td>\n",
       "    </tr>\n",
       "    <tr>\n",
       "      <th>3</th>\n",
       "      <td>61</td>\n",
       "      <td>New Sectors</td>\n",
       "      <td>Germany</td>\n",
       "      <td>Ratiopharm</td>\n",
       "      <td>new</td>\n",
       "      <td>DEU</td>\n",
       "      <td>1881</td>\n",
       "      <td>True</td>\n",
       "      <td>2.500000e+12</td>\n",
       "      <td>male</td>\n",
       "      <td>...</td>\n",
       "      <td>True</td>\n",
       "      <td>0</td>\n",
       "      <td>inherited</td>\n",
       "      <td>1.0</td>\n",
       "      <td>1996</td>\n",
       "      <td>0</td>\n",
       "      <td>0</td>\n",
       "      <td>1</td>\n",
       "      <td>0</td>\n",
       "      <td>0</td>\n",
       "    </tr>\n",
       "    <tr>\n",
       "      <th>4</th>\n",
       "      <td>-1</td>\n",
       "      <td>Financial</td>\n",
       "      <td>Hong Kong</td>\n",
       "      <td>Swire</td>\n",
       "      <td>new</td>\n",
       "      <td>HKG</td>\n",
       "      <td>1816</td>\n",
       "      <td>True</td>\n",
       "      <td>1.600000e+11</td>\n",
       "      <td>male</td>\n",
       "      <td>...</td>\n",
       "      <td>True</td>\n",
       "      <td>0</td>\n",
       "      <td>inherited</td>\n",
       "      <td>2.2</td>\n",
       "      <td>1996</td>\n",
       "      <td>0</td>\n",
       "      <td>0</td>\n",
       "      <td>1</td>\n",
       "      <td>0</td>\n",
       "      <td>0</td>\n",
       "    </tr>\n",
       "  </tbody>\n",
       "</table>\n",
       "<p>5 rows × 27 columns</p>\n",
       "</div>"
      ],
      "text/plain": [
       "   age            category    citizenship  \\\n",
       "0   -1           Financial   Saudi Arabia   \n",
       "1   34           Financial  United States   \n",
       "2   59  Non-Traded Sectors         Brazil   \n",
       "3   61         New Sectors        Germany   \n",
       "4   -1           Financial      Hong Kong   \n",
       "\n",
       "                             company.name company.type country code  founded  \\\n",
       "0  Rolaco Trading and Contracting Company          new          SAU     1968   \n",
       "1                    Fidelity Investments          new          USA     1946   \n",
       "2    Companhia Brasileira de Distribui?ao          new          BRA     1948   \n",
       "3                              Ratiopharm          new          DEU     1881   \n",
       "4                                   Swire          new          HKG     1816   \n",
       "\n",
       "   from emerging           gdp  gender              ...               \\\n",
       "0           True  1.580000e+11    male              ...                \n",
       "1           True  8.100000e+12  female              ...                \n",
       "2           True  8.540000e+11    male              ...                \n",
       "3           True  2.500000e+12    male              ...                \n",
       "4           True  1.600000e+11    male              ...                \n",
       "\n",
       "  was founder  was political        wealth.type  worth in billions  year  \\\n",
       "0        True              0  self-made finance                1.0  1996   \n",
       "1        True              0          inherited                2.5  1996   \n",
       "2        True              0          inherited                1.2  1996   \n",
       "3        True              0          inherited                1.0  1996   \n",
       "4        True              0          inherited                2.2  1996   \n",
       "\n",
       "  wealth_type_executive wealth_type_founder non-finance  \\\n",
       "0                     0                               0   \n",
       "1                     0                               0   \n",
       "2                     0                               0   \n",
       "3                     0                               0   \n",
       "4                     0                               0   \n",
       "\n",
       "   wealth_type_inherited  wealth_type_privatized and resources  \\\n",
       "0                      0                                     0   \n",
       "1                      1                                     0   \n",
       "2                      1                                     0   \n",
       "3                      1                                     0   \n",
       "4                      1                                     0   \n",
       "\n",
       "  wealth_type_self-made finance  \n",
       "0                             1  \n",
       "1                             0  \n",
       "2                             0  \n",
       "3                             0  \n",
       "4                             0  \n",
       "\n",
       "[5 rows x 27 columns]"
      ]
     },
     "execution_count": 70,
     "metadata": {},
     "output_type": "execute_result"
    }
   ],
   "source": [
    "df.head()"
   ]
  },
  {
   "cell_type": "code",
   "execution_count": null,
   "metadata": {
    "collapsed": true
   },
   "outputs": [],
   "source": []
  },
  {
   "cell_type": "code",
   "execution_count": 76,
   "metadata": {},
   "outputs": [
    {
     "data": {
      "text/plain": [
       "LogisticRegression(C=1.0, class_weight=None, dual=False, fit_intercept=True,\n",
       "          intercept_scaling=1, max_iter=100, multi_class='ovr', n_jobs=1,\n",
       "          penalty='l2', random_state=None, solver='liblinear', tol=0.0001,\n",
       "          verbose=0, warm_start=False)"
      ]
     },
     "execution_count": 76,
     "metadata": {},
     "output_type": "execute_result"
    }
   ],
   "source": [
    "lm.fit(df[['worth in billions', 'wealth_type_inherited', 'wealth_type_privatized and resources', \n",
    "          'wealth_type_executive', 'wealth_type_founder non-finance', \n",
    "          'wealth_type_self-made finance']], df['was political'])"
   ]
  },
  {
   "cell_type": "code",
   "execution_count": 77,
   "metadata": {},
   "outputs": [
    {
     "name": "stdout",
     "output_type": "stream",
     "text": [
      "[[ 0.00472248 -0.87829518  2.71918934 -1.29534596 -2.13008053 -1.57838504]]\n"
     ]
    }
   ],
   "source": [
    "# coef of \"worth in billions\"\n",
    "print lm.coef_"
   ]
  },
  {
   "cell_type": "code",
   "execution_count": 79,
   "metadata": {},
   "outputs": [
    {
     "name": "stdout",
     "output_type": "stream",
     "text": [
      "[-3.69841996]\n"
     ]
    }
   ],
   "source": [
    "#y intercept of \n",
    "print lm.intercept_"
   ]
  },
  {
   "cell_type": "code",
   "execution_count": 80,
   "metadata": {},
   "outputs": [
    {
     "name": "stdout",
     "output_type": "stream",
     "text": [
      "0.0298393267024\n"
     ]
    }
   ],
   "source": [
    "# mean of political billionaires\n",
    "print df['was political'].mean()"
   ]
  },
  {
   "cell_type": "code",
   "execution_count": 82,
   "metadata": {},
   "outputs": [
    {
     "data": {
      "text/plain": [
       "array([ 0.02476262])"
      ]
     },
     "execution_count": 82,
     "metadata": {},
     "output_type": "execute_result"
    }
   ],
   "source": [
    "# odds 0.02:1\n",
    "np.exp(lm.intercept_)"
   ]
  },
  {
   "cell_type": "code",
   "execution_count": 83,
   "metadata": {},
   "outputs": [
    {
     "data": {
      "text/plain": [
       "array([ 0.02416425])"
      ]
     },
     "execution_count": 83,
     "metadata": {},
     "output_type": "execute_result"
    }
   ],
   "source": [
    "# probability in percent\n",
    "np.exp(lm.intercept_)/(1 + np.exp(lm.intercept_))"
   ]
  },
  {
   "cell_type": "code",
   "execution_count": 84,
   "metadata": {},
   "outputs": [
    {
     "data": {
      "text/plain": [
       "array([[  1.00473365,   0.41549065,  15.16802113,   0.27380312,\n",
       "          0.11882772,   0.20630801]])"
      ]
     },
     "execution_count": 84,
     "metadata": {},
     "output_type": "execute_result"
    }
   ],
   "source": [
    "# For every billion increase, you increase your odd of it being political\n",
    "np.exp(lm.coef_)"
   ]
  },
  {
   "cell_type": "code",
   "execution_count": 92,
   "metadata": {},
   "outputs": [
    {
     "data": {
      "text/plain": [
       "array([ 0.03424031])"
      ]
     },
     "execution_count": 92,
     "metadata": {},
     "output_type": "execute_result"
    }
   ],
   "source": [
    "#if you have 76 billion, you have a 3% chance of it being political\n",
    "odds = np.exp(lm.intercept_) * (1.00473365 ** 76)\n",
    "odds/(1 + odds)"
   ]
  },
  {
   "cell_type": "code",
   "execution_count": 94,
   "metadata": {},
   "outputs": [
    {
     "data": {
      "text/plain": [
       "array([ 0.27304447])"
      ]
     },
     "execution_count": 94,
     "metadata": {},
     "output_type": "execute_result"
    }
   ],
   "source": [
    "#if your wealth type is 'privatized and resources', you have a 27% chance of it being political\n",
    "odds = np.exp(lm.intercept_) * (15.16802113 ** 1)\n",
    "odds/(1 + odds)"
   ]
  },
  {
   "cell_type": "code",
   "execution_count": 89,
   "metadata": {},
   "outputs": [
    {
     "data": {
      "text/html": [
       "<div>\n",
       "<style>\n",
       "    .dataframe thead tr:only-child th {\n",
       "        text-align: right;\n",
       "    }\n",
       "\n",
       "    .dataframe thead th {\n",
       "        text-align: left;\n",
       "    }\n",
       "\n",
       "    .dataframe tbody tr th {\n",
       "        vertical-align: top;\n",
       "    }\n",
       "</style>\n",
       "<table border=\"1\" class=\"dataframe\">\n",
       "  <thead>\n",
       "    <tr style=\"text-align: right;\">\n",
       "      <th></th>\n",
       "      <th>age</th>\n",
       "      <th>founded</th>\n",
       "      <th>gdp</th>\n",
       "      <th>rank</th>\n",
       "      <th>was political</th>\n",
       "      <th>worth in billions</th>\n",
       "      <th>year</th>\n",
       "      <th>wealth_type_executive</th>\n",
       "      <th>wealth_type_founder non-finance</th>\n",
       "      <th>wealth_type_inherited</th>\n",
       "      <th>wealth_type_privatized and resources</th>\n",
       "      <th>wealth_type_self-made finance</th>\n",
       "    </tr>\n",
       "  </thead>\n",
       "  <tbody>\n",
       "    <tr>\n",
       "      <th>count</th>\n",
       "      <td>2614.000000</td>\n",
       "      <td>2614.000000</td>\n",
       "      <td>2.614000e+03</td>\n",
       "      <td>2614.000000</td>\n",
       "      <td>2614.000000</td>\n",
       "      <td>2614.000000</td>\n",
       "      <td>2614.000000</td>\n",
       "      <td>2614.000000</td>\n",
       "      <td>2614.000000</td>\n",
       "      <td>2614.000000</td>\n",
       "      <td>2614.000000</td>\n",
       "      <td>2614.000000</td>\n",
       "    </tr>\n",
       "    <tr>\n",
       "      <th>mean</th>\n",
       "      <td>53.212701</td>\n",
       "      <td>1924.711936</td>\n",
       "      <td>1.769103e+12</td>\n",
       "      <td>599.672533</td>\n",
       "      <td>0.029839</td>\n",
       "      <td>3.531943</td>\n",
       "      <td>2008.411630</td>\n",
       "      <td>0.072686</td>\n",
       "      <td>0.272762</td>\n",
       "      <td>0.364575</td>\n",
       "      <td>0.090283</td>\n",
       "      <td>0.191278</td>\n",
       "    </tr>\n",
       "    <tr>\n",
       "      <th>std</th>\n",
       "      <td>25.591642</td>\n",
       "      <td>243.776546</td>\n",
       "      <td>3.547083e+12</td>\n",
       "      <td>467.885695</td>\n",
       "      <td>0.170176</td>\n",
       "      <td>5.088813</td>\n",
       "      <td>7.483598</td>\n",
       "      <td>0.259669</td>\n",
       "      <td>0.445465</td>\n",
       "      <td>0.481403</td>\n",
       "      <td>0.286642</td>\n",
       "      <td>0.393382</td>\n",
       "    </tr>\n",
       "    <tr>\n",
       "      <th>min</th>\n",
       "      <td>-1.000000</td>\n",
       "      <td>0.000000</td>\n",
       "      <td>0.000000e+00</td>\n",
       "      <td>1.000000</td>\n",
       "      <td>0.000000</td>\n",
       "      <td>1.000000</td>\n",
       "      <td>1996.000000</td>\n",
       "      <td>0.000000</td>\n",
       "      <td>0.000000</td>\n",
       "      <td>0.000000</td>\n",
       "      <td>0.000000</td>\n",
       "      <td>0.000000</td>\n",
       "    </tr>\n",
       "    <tr>\n",
       "      <th>25%</th>\n",
       "      <td>47.000000</td>\n",
       "      <td>1936.000000</td>\n",
       "      <td>0.000000e+00</td>\n",
       "      <td>215.000000</td>\n",
       "      <td>0.000000</td>\n",
       "      <td>1.400000</td>\n",
       "      <td>2001.000000</td>\n",
       "      <td>0.000000</td>\n",
       "      <td>0.000000</td>\n",
       "      <td>0.000000</td>\n",
       "      <td>0.000000</td>\n",
       "      <td>0.000000</td>\n",
       "    </tr>\n",
       "    <tr>\n",
       "      <th>50%</th>\n",
       "      <td>59.000000</td>\n",
       "      <td>1963.000000</td>\n",
       "      <td>0.000000e+00</td>\n",
       "      <td>430.000000</td>\n",
       "      <td>0.000000</td>\n",
       "      <td>2.000000</td>\n",
       "      <td>2014.000000</td>\n",
       "      <td>0.000000</td>\n",
       "      <td>0.000000</td>\n",
       "      <td>0.000000</td>\n",
       "      <td>0.000000</td>\n",
       "      <td>0.000000</td>\n",
       "    </tr>\n",
       "    <tr>\n",
       "      <th>75%</th>\n",
       "      <td>70.000000</td>\n",
       "      <td>1985.000000</td>\n",
       "      <td>7.250000e+11</td>\n",
       "      <td>988.000000</td>\n",
       "      <td>0.000000</td>\n",
       "      <td>3.500000</td>\n",
       "      <td>2014.000000</td>\n",
       "      <td>0.000000</td>\n",
       "      <td>1.000000</td>\n",
       "      <td>1.000000</td>\n",
       "      <td>0.000000</td>\n",
       "      <td>0.000000</td>\n",
       "    </tr>\n",
       "    <tr>\n",
       "      <th>max</th>\n",
       "      <td>98.000000</td>\n",
       "      <td>2012.000000</td>\n",
       "      <td>1.060000e+13</td>\n",
       "      <td>1565.000000</td>\n",
       "      <td>1.000000</td>\n",
       "      <td>76.000000</td>\n",
       "      <td>2014.000000</td>\n",
       "      <td>1.000000</td>\n",
       "      <td>1.000000</td>\n",
       "      <td>1.000000</td>\n",
       "      <td>1.000000</td>\n",
       "      <td>1.000000</td>\n",
       "    </tr>\n",
       "  </tbody>\n",
       "</table>\n",
       "</div>"
      ],
      "text/plain": [
       "               age      founded           gdp         rank  was political  \\\n",
       "count  2614.000000  2614.000000  2.614000e+03  2614.000000    2614.000000   \n",
       "mean     53.212701  1924.711936  1.769103e+12   599.672533       0.029839   \n",
       "std      25.591642   243.776546  3.547083e+12   467.885695       0.170176   \n",
       "min      -1.000000     0.000000  0.000000e+00     1.000000       0.000000   \n",
       "25%      47.000000  1936.000000  0.000000e+00   215.000000       0.000000   \n",
       "50%      59.000000  1963.000000  0.000000e+00   430.000000       0.000000   \n",
       "75%      70.000000  1985.000000  7.250000e+11   988.000000       0.000000   \n",
       "max      98.000000  2012.000000  1.060000e+13  1565.000000       1.000000   \n",
       "\n",
       "       worth in billions         year  wealth_type_executive  \\\n",
       "count        2614.000000  2614.000000            2614.000000   \n",
       "mean            3.531943  2008.411630               0.072686   \n",
       "std             5.088813     7.483598               0.259669   \n",
       "min             1.000000  1996.000000               0.000000   \n",
       "25%             1.400000  2001.000000               0.000000   \n",
       "50%             2.000000  2014.000000               0.000000   \n",
       "75%             3.500000  2014.000000               0.000000   \n",
       "max            76.000000  2014.000000               1.000000   \n",
       "\n",
       "       wealth_type_founder non-finance  wealth_type_inherited  \\\n",
       "count                      2614.000000            2614.000000   \n",
       "mean                          0.272762               0.364575   \n",
       "std                           0.445465               0.481403   \n",
       "min                           0.000000               0.000000   \n",
       "25%                           0.000000               0.000000   \n",
       "50%                           0.000000               0.000000   \n",
       "75%                           1.000000               1.000000   \n",
       "max                           1.000000               1.000000   \n",
       "\n",
       "       wealth_type_privatized and resources  wealth_type_self-made finance  \n",
       "count                           2614.000000                    2614.000000  \n",
       "mean                               0.090283                       0.191278  \n",
       "std                                0.286642                       0.393382  \n",
       "min                                0.000000                       0.000000  \n",
       "25%                                0.000000                       0.000000  \n",
       "50%                                0.000000                       0.000000  \n",
       "75%                                0.000000                       0.000000  \n",
       "max                                1.000000                       1.000000  "
      ]
     },
     "execution_count": 89,
     "metadata": {},
     "output_type": "execute_result"
    }
   ],
   "source": [
    "df.describe()"
   ]
  },
  {
   "cell_type": "code",
   "execution_count": null,
   "metadata": {
    "collapsed": true
   },
   "outputs": [],
   "source": []
  }
 ],
 "metadata": {
  "kernelspec": {
   "display_name": "Python 2",
   "language": "python",
   "name": "python2"
  },
  "language_info": {
   "codemirror_mode": {
    "name": "ipython",
    "version": 2
   },
   "file_extension": ".py",
   "mimetype": "text/x-python",
   "name": "python",
   "nbconvert_exporter": "python",
   "pygments_lexer": "ipython2",
   "version": "2.7.12"
  }
 },
 "nbformat": 4,
 "nbformat_minor": 2
}
